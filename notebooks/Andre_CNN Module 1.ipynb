{
 "cells": [
  {
   "cell_type": "markdown",
   "id": "064fba3b",
   "metadata": {},
   "source": [
    "# CNN Module_1 "
   ]
  },
  {
   "cell_type": "markdown",
   "id": "d8684a06",
   "metadata": {},
   "source": [
    "## Imports"
   ]
  },
  {
   "cell_type": "code",
   "execution_count": 6,
   "id": "9c2bc40a",
   "metadata": {},
   "outputs": [],
   "source": [
    "import librosa\n",
    "import numpy as np\n",
    "import os\n",
    "import pandas as pd\n",
    "import seaborn as sns\n",
    "import matplotlib.pyplot as plt\n",
    "from sklearn.preprocessing import MultiLabelBinarizer\n",
    "from sklearn.model_selection import train_test_split\n",
    "import tensorflow as tf\n",
    "from tensorflow.keras import layers, models\n",
    "from sklearn.metrics import accuracy_score, precision_score, recall_score\n",
    "from sklearn.metrics import multilabel_confusion_matrix, classification_report"
   ]
  },
  {
   "cell_type": "markdown",
   "id": "5c600bd6",
   "metadata": {},
   "source": [
    "## Extract the spectrogram of .wav files"
   ]
  },
  {
   "cell_type": "code",
   "execution_count": 7,
   "id": "e30924b3",
   "metadata": {},
   "outputs": [],
   "source": [
    "# Function to extract Mel-spectrogram from the audio file\n",
    "def extract_mel_spectrogram(file_path):\n",
    "    y, sr = librosa.load(file_path, sr=None, duration=5.0)  # Limit to 5 seconds to keep data consistent\n",
    "    mel_spec = librosa.feature.melspectrogram(y=y, sr=sr, n_mels=128, fmax=8000)\n",
    "    mel_spec_db = librosa.power_to_db(mel_spec, ref=np.max)  # Convert to decibels for better visualization\n",
    "    return mel_spec_db"
   ]
  },
  {
   "cell_type": "markdown",
   "id": "faa9fa21",
   "metadata": {},
   "source": [
    "## Extract features / create training data"
   ]
  },
  {
   "cell_type": "code",
   "execution_count": 8,
   "id": "fe2c13c0",
   "metadata": {},
   "outputs": [
    {
     "name": "stderr",
     "output_type": "stream",
     "text": [
      "/Users/andregusmao/.pyenv/versions/3.10.6/envs/lewagon/lib/python3.10/site-packages/sklearn/preprocessing/_label.py:900: UserWarning: unknown class(es) [69, 74] will be ignored\n",
      "  warnings.warn(\n",
      "/Users/andregusmao/.pyenv/versions/3.10.6/envs/lewagon/lib/python3.10/site-packages/sklearn/preprocessing/_label.py:900: UserWarning: unknown class(es) [7] will be ignored\n",
      "  warnings.warn(\n",
      "/Users/andregusmao/.pyenv/versions/3.10.6/envs/lewagon/lib/python3.10/site-packages/sklearn/preprocessing/_label.py:900: UserWarning: unknown class(es) [44, 74] will be ignored\n",
      "  warnings.warn(\n",
      "/Users/andregusmao/.pyenv/versions/3.10.6/envs/lewagon/lib/python3.10/site-packages/sklearn/preprocessing/_label.py:900: UserWarning: unknown class(es) [74] will be ignored\n",
      "  warnings.warn(\n",
      "/Users/andregusmao/.pyenv/versions/3.10.6/envs/lewagon/lib/python3.10/site-packages/sklearn/preprocessing/_label.py:900: UserWarning: unknown class(es) [44] will be ignored\n",
      "  warnings.warn(\n",
      "/Users/andregusmao/.pyenv/versions/3.10.6/envs/lewagon/lib/python3.10/site-packages/sklearn/preprocessing/_label.py:900: UserWarning: unknown class(es) [69] will be ignored\n",
      "  warnings.warn(\n"
     ]
    }
   ],
   "source": [
    "# Sample data \n",
    "data = pd.read_csv('csv_data/modified_csvs/preprocessed _data.csv')\n",
    "\n",
    "\n",
    "# Define the unique instruments\n",
    "unique_instruments = [1, 41, 42, 43, 61, 71, 72]  \n",
    "\n",
    "if isinstance(data['target'].iloc[0], str):\n",
    "    data['target'] = data['target'].apply(eval) \n",
    "\n",
    "mlb = MultiLabelBinarizer(classes=unique_instruments)\n",
    "\n",
    "# # Apply MultiLabelBinarizer to the 'target' column to get the binary representation\n",
    "\n",
    "# Extract features (Mel-spectrogram) and targets\n",
    "X = []  # Features (Mel-spectrograms)\n",
    "y = []  # Targets (binary labels)\n",
    "\n",
    "for _, entry in data.iterrows():\n",
    "    mel_spec = extract_mel_spectrogram(entry[\"filename\"])\n",
    "    X.append(mel_spec)\n",
    "    \n",
    "    # Use MultiLabelBinarizer to encode the target (list of instruments)\n",
    "    encoded_target = mlb.fit_transform([entry[\"target\"]])  # entry['target'] contains a list of instruments\n",
    "    y.append(encoded_target[0])\n",
    "    \n",
    "\n",
    "# Pad the Mel-spectrograms to make them have the same shape (for CNN input)\n",
    "X = tf.keras.preprocessing.sequence.pad_sequences(X, padding='post', dtype='float32', value=0)\n",
    "\n",
    "# Add the channel dimension to X (since it is a grayscale image, the channel will be 1)\n",
    "X = np.expand_dims(X, axis=-1)  # Shape will be (batch_size, height, width, 1)\n",
    "\n",
    "# Convert X and y to numpy arrays\n",
    "X = np.array(X)\n",
    "y = np.array(y)\n",
    "\n",
    "# Train-test split\n",
    "X_train, X_test, y_train, y_test = train_test_split(X, y, test_size=0.2, random_state=42)"
   ]
  },
  {
   "cell_type": "markdown",
   "id": "f2aa6b3e",
   "metadata": {},
   "source": [
    "## Create / evaluate CNN model"
   ]
  },
  {
   "cell_type": "code",
   "execution_count": 10,
   "id": "65364de6",
   "metadata": {},
   "outputs": [
    {
     "name": "stdout",
     "output_type": "stream",
     "text": [
      "Epoch 1/80\n"
     ]
    },
    {
     "name": "stderr",
     "output_type": "stream",
     "text": [
      "/Users/andregusmao/.pyenv/versions/3.10.6/envs/lewagon/lib/python3.10/site-packages/keras/src/layers/core/input_layer.py:26: UserWarning: Argument `input_shape` is deprecated. Use `shape` instead.\n",
      "  warnings.warn(\n"
     ]
    },
    {
     "name": "stdout",
     "output_type": "stream",
     "text": [
      "\u001b[1m8/8\u001b[0m \u001b[32m━━━━━━━━━━━━━━━━━━━━\u001b[0m\u001b[37m\u001b[0m \u001b[1m2s\u001b[0m 158ms/step - accuracy: 0.3445 - loss: 1.7555 - precision: 0.4813 - recall: 0.4928 - val_accuracy: 0.7656 - val_loss: 7.8731 - val_precision: 0.7656 - val_recall: 0.4667\n",
      "Epoch 2/80\n",
      "\u001b[1m8/8\u001b[0m \u001b[32m━━━━━━━━━━━━━━━━━━━━\u001b[0m\u001b[37m\u001b[0m \u001b[1m1s\u001b[0m 145ms/step - accuracy: 0.5038 - loss: 0.6805 - precision: 0.6033 - recall: 0.5668 - val_accuracy: 0.7656 - val_loss: 8.3366 - val_precision: 0.7656 - val_recall: 0.4667\n",
      "Epoch 3/80\n",
      "\u001b[1m8/8\u001b[0m \u001b[32m━━━━━━━━━━━━━━━━━━━━\u001b[0m\u001b[37m\u001b[0m \u001b[1m1s\u001b[0m 144ms/step - accuracy: 0.6155 - loss: 0.3986 - precision: 0.7655 - recall: 0.7452 - val_accuracy: 0.7656 - val_loss: 7.4496 - val_precision: 0.7656 - val_recall: 0.4667\n",
      "Epoch 4/80\n",
      "\u001b[1m8/8\u001b[0m \u001b[32m━━━━━━━━━━━━━━━━━━━━\u001b[0m\u001b[37m\u001b[0m \u001b[1m1s\u001b[0m 143ms/step - accuracy: 0.6654 - loss: 0.3041 - precision: 0.8040 - recall: 0.6710 - val_accuracy: 0.7656 - val_loss: 9.3440 - val_precision: 0.7656 - val_recall: 0.4667\n",
      "Epoch 5/80\n",
      "\u001b[1m8/8\u001b[0m \u001b[32m━━━━━━━━━━━━━━━━━━━━\u001b[0m\u001b[37m\u001b[0m \u001b[1m1s\u001b[0m 143ms/step - accuracy: 0.6861 - loss: 0.3127 - precision: 0.8014 - recall: 0.7252 - val_accuracy: 0.7656 - val_loss: 6.4929 - val_precision: 0.7656 - val_recall: 0.4667\n",
      "Epoch 6/80\n",
      "\u001b[1m8/8\u001b[0m \u001b[32m━━━━━━━━━━━━━━━━━━━━\u001b[0m\u001b[37m\u001b[0m \u001b[1m1s\u001b[0m 143ms/step - accuracy: 0.7060 - loss: 0.2613 - precision: 0.8463 - recall: 0.7751 - val_accuracy: 0.7656 - val_loss: 6.3733 - val_precision: 0.7656 - val_recall: 0.4667\n",
      "Epoch 7/80\n",
      "\u001b[1m8/8\u001b[0m \u001b[32m━━━━━━━━━━━━━━━━━━━━\u001b[0m\u001b[37m\u001b[0m \u001b[1m1s\u001b[0m 144ms/step - accuracy: 0.6824 - loss: 0.3292 - precision: 0.8159 - recall: 0.6661 - val_accuracy: 0.7656 - val_loss: 5.2853 - val_precision: 0.7656 - val_recall: 0.4667\n",
      "Epoch 8/80\n",
      "\u001b[1m8/8\u001b[0m \u001b[32m━━━━━━━━━━━━━━━━━━━━\u001b[0m\u001b[37m\u001b[0m \u001b[1m1s\u001b[0m 143ms/step - accuracy: 0.7257 - loss: 0.2844 - precision: 0.8091 - recall: 0.7298 - val_accuracy: 0.7656 - val_loss: 2.1710 - val_precision: 0.7656 - val_recall: 0.4667\n",
      "Epoch 9/80\n",
      "\u001b[1m8/8\u001b[0m \u001b[32m━━━━━━━━━━━━━━━━━━━━\u001b[0m\u001b[37m\u001b[0m \u001b[1m1s\u001b[0m 144ms/step - accuracy: 0.6860 - loss: 0.2450 - precision: 0.8632 - recall: 0.7372 - val_accuracy: 0.7656 - val_loss: 2.2579 - val_precision: 0.7656 - val_recall: 0.4667\n",
      "Epoch 10/80\n",
      "\u001b[1m8/8\u001b[0m \u001b[32m━━━━━━━━━━━━━━━━━━━━\u001b[0m\u001b[37m\u001b[0m \u001b[1m1s\u001b[0m 142ms/step - accuracy: 0.7333 - loss: 0.1964 - precision: 0.8761 - recall: 0.7904 - val_accuracy: 0.7812 - val_loss: 0.4871 - val_precision: 0.8767 - val_recall: 0.6095\n",
      "Epoch 11/80\n",
      "\u001b[1m8/8\u001b[0m \u001b[32m━━━━━━━━━━━━━━━━━━━━\u001b[0m\u001b[37m\u001b[0m \u001b[1m1s\u001b[0m 144ms/step - accuracy: 0.6802 - loss: 0.2130 - precision: 0.8665 - recall: 0.8378 - val_accuracy: 0.7656 - val_loss: 1.6273 - val_precision: 0.7969 - val_recall: 0.4857\n",
      "Epoch 12/80\n",
      "\u001b[1m8/8\u001b[0m \u001b[32m━━━━━━━━━━━━━━━━━━━━\u001b[0m\u001b[37m\u001b[0m \u001b[1m1s\u001b[0m 146ms/step - accuracy: 0.7139 - loss: 0.1483 - precision: 0.9263 - recall: 0.8312 - val_accuracy: 0.8594 - val_loss: 0.4074 - val_precision: 0.8875 - val_recall: 0.6762\n",
      "Epoch 13/80\n",
      "\u001b[1m8/8\u001b[0m \u001b[32m━━━━━━━━━━━━━━━━━━━━\u001b[0m\u001b[37m\u001b[0m \u001b[1m1s\u001b[0m 144ms/step - accuracy: 0.7085 - loss: 0.1365 - precision: 0.9264 - recall: 0.8911 - val_accuracy: 0.7812 - val_loss: 0.5750 - val_precision: 0.8592 - val_recall: 0.5810\n",
      "Epoch 14/80\n",
      "\u001b[1m8/8\u001b[0m \u001b[32m━━━━━━━━━━━━━━━━━━━━\u001b[0m\u001b[37m\u001b[0m \u001b[1m1s\u001b[0m 142ms/step - accuracy: 0.6555 - loss: 0.1396 - precision: 0.9320 - recall: 0.8803 - val_accuracy: 0.8281 - val_loss: 0.3803 - val_precision: 0.9079 - val_recall: 0.6571\n",
      "Epoch 15/80\n",
      "\u001b[1m8/8\u001b[0m \u001b[32m━━━━━━━━━━━━━━━━━━━━\u001b[0m\u001b[37m\u001b[0m \u001b[1m1s\u001b[0m 146ms/step - accuracy: 0.6608 - loss: 0.1044 - precision: 0.9467 - recall: 0.9163 - val_accuracy: 0.7031 - val_loss: 0.3162 - val_precision: 0.7980 - val_recall: 0.7524\n",
      "Epoch 16/80\n",
      "\u001b[1m8/8\u001b[0m \u001b[32m━━━━━━━━━━━━━━━━━━━━\u001b[0m\u001b[37m\u001b[0m \u001b[1m1s\u001b[0m 144ms/step - accuracy: 0.6954 - loss: 0.0740 - precision: 0.9624 - recall: 0.9508 - val_accuracy: 0.7500 - val_loss: 0.3283 - val_precision: 0.8444 - val_recall: 0.7238\n",
      "Epoch 17/80\n",
      "\u001b[1m8/8\u001b[0m \u001b[32m━━━━━━━━━━━━━━━━━━━━\u001b[0m\u001b[37m\u001b[0m \u001b[1m1s\u001b[0m 145ms/step - accuracy: 0.7428 - loss: 0.0527 - precision: 0.9761 - recall: 0.9534 - val_accuracy: 0.7500 - val_loss: 0.3471 - val_precision: 0.7812 - val_recall: 0.7143\n",
      "Epoch 18/80\n",
      "\u001b[1m8/8\u001b[0m \u001b[32m━━━━━━━━━━━━━━━━━━━━\u001b[0m\u001b[37m\u001b[0m \u001b[1m1s\u001b[0m 144ms/step - accuracy: 0.7521 - loss: 0.0600 - precision: 0.9543 - recall: 0.9712 - val_accuracy: 0.6406 - val_loss: 0.4407 - val_precision: 0.6557 - val_recall: 0.7619\n",
      "Epoch 19/80\n",
      "\u001b[1m8/8\u001b[0m \u001b[32m━━━━━━━━━━━━━━━━━━━━\u001b[0m\u001b[37m\u001b[0m \u001b[1m1s\u001b[0m 144ms/step - accuracy: 0.6556 - loss: 0.0411 - precision: 0.9780 - recall: 0.9828 - val_accuracy: 0.7031 - val_loss: 0.3295 - val_precision: 0.7921 - val_recall: 0.7619\n",
      "Epoch 20/80\n",
      "\u001b[1m8/8\u001b[0m \u001b[32m━━━━━━━━━━━━━━━━━━━━\u001b[0m\u001b[37m\u001b[0m \u001b[1m1s\u001b[0m 144ms/step - accuracy: 0.7133 - loss: 0.0244 - precision: 0.9896 - recall: 0.9819 - val_accuracy: 0.7812 - val_loss: 0.3151 - val_precision: 0.7642 - val_recall: 0.7714\n",
      "Epoch 21/80\n",
      "\u001b[1m8/8\u001b[0m \u001b[32m━━━━━━━━━━━━━━━━━━━━\u001b[0m\u001b[37m\u001b[0m \u001b[1m1s\u001b[0m 146ms/step - accuracy: 0.6979 - loss: 0.0277 - precision: 0.9862 - recall: 0.9847 - val_accuracy: 0.7344 - val_loss: 0.3708 - val_precision: 0.7232 - val_recall: 0.7714\n",
      "Epoch 22/80\n",
      "\u001b[1m8/8\u001b[0m \u001b[32m━━━━━━━━━━━━━━━━━━━━\u001b[0m\u001b[37m\u001b[0m \u001b[1m1s\u001b[0m 146ms/step - accuracy: 0.6679 - loss: 0.0213 - precision: 0.9977 - recall: 0.9968 - val_accuracy: 0.7656 - val_loss: 0.4090 - val_precision: 0.7130 - val_recall: 0.7810\n",
      "Epoch 23/80\n",
      "\u001b[1m8/8\u001b[0m \u001b[32m━━━━━━━━━━━━━━━━━━━━\u001b[0m\u001b[37m\u001b[0m \u001b[1m1s\u001b[0m 146ms/step - accuracy: 0.6965 - loss: 0.0242 - precision: 0.9837 - recall: 0.9865 - val_accuracy: 0.6719 - val_loss: 0.4678 - val_precision: 0.6493 - val_recall: 0.8286\n",
      "Epoch 24/80\n",
      "\u001b[1m8/8\u001b[0m \u001b[32m━━━━━━━━━━━━━━━━━━━━\u001b[0m\u001b[37m\u001b[0m \u001b[1m1s\u001b[0m 145ms/step - accuracy: 0.6534 - loss: 0.0262 - precision: 0.9797 - recall: 0.9904 - val_accuracy: 0.7500 - val_loss: 0.3666 - val_precision: 0.7523 - val_recall: 0.7810\n",
      "Epoch 25/80\n",
      "\u001b[1m8/8\u001b[0m \u001b[32m━━━━━━━━━━━━━━━━━━━━\u001b[0m\u001b[37m\u001b[0m \u001b[1m1s\u001b[0m 145ms/step - accuracy: 0.7516 - loss: 0.0119 - precision: 0.9966 - recall: 0.9966 - val_accuracy: 0.7188 - val_loss: 0.3966 - val_precision: 0.7576 - val_recall: 0.7143\n",
      "Epoch 26/80\n",
      "\u001b[1m8/8\u001b[0m \u001b[32m━━━━━━━━━━━━━━━━━━━━\u001b[0m\u001b[37m\u001b[0m \u001b[1m1s\u001b[0m 145ms/step - accuracy: 0.7281 - loss: 0.0071 - precision: 1.0000 - recall: 1.0000 - val_accuracy: 0.7188 - val_loss: 0.4063 - val_precision: 0.7103 - val_recall: 0.7238\n",
      "Epoch 27/80\n",
      "\u001b[1m8/8\u001b[0m \u001b[32m━━━━━━━━━━━━━━━━━━━━\u001b[0m\u001b[37m\u001b[0m \u001b[1m1s\u001b[0m 145ms/step - accuracy: 0.7177 - loss: 0.0051 - precision: 1.0000 - recall: 1.0000 - val_accuracy: 0.6719 - val_loss: 0.4577 - val_precision: 0.7115 - val_recall: 0.7048\n",
      "Epoch 28/80\n",
      "\u001b[1m8/8\u001b[0m \u001b[32m━━━━━━━━━━━━━━━━━━━━\u001b[0m\u001b[37m\u001b[0m \u001b[1m1s\u001b[0m 145ms/step - accuracy: 0.7309 - loss: 0.0033 - precision: 1.0000 - recall: 1.0000 - val_accuracy: 0.6875 - val_loss: 0.4450 - val_precision: 0.7048 - val_recall: 0.7048\n",
      "Epoch 29/80\n",
      "\u001b[1m8/8\u001b[0m \u001b[32m━━━━━━━━━━━━━━━━━━━━\u001b[0m\u001b[37m\u001b[0m \u001b[1m1s\u001b[0m 145ms/step - accuracy: 0.6755 - loss: 0.0029 - precision: 1.0000 - recall: 1.0000 - val_accuracy: 0.6875 - val_loss: 0.4533 - val_precision: 0.6916 - val_recall: 0.7048\n",
      "Epoch 30/80\n",
      "\u001b[1m8/8\u001b[0m \u001b[32m━━━━━━━━━━━━━━━━━━━━\u001b[0m\u001b[37m\u001b[0m \u001b[1m1s\u001b[0m 146ms/step - accuracy: 0.7271 - loss: 0.0023 - precision: 1.0000 - recall: 0.9995 - val_accuracy: 0.7031 - val_loss: 0.4764 - val_precision: 0.6909 - val_recall: 0.7238\n",
      "\u001b[1m2/2\u001b[0m \u001b[32m━━━━━━━━━━━━━━━━━━━━\u001b[0m\u001b[37m\u001b[0m \u001b[1m0s\u001b[0m 35ms/step - accuracy: 0.7812 - loss: 0.3120 - precision: 0.7578 - recall: 0.7838\n",
      "Test Loss: 0.3151\n",
      "Test Accuracy: 0.7812\n",
      "Test Precision: 0.7714\n",
      "Test Recall: 0.7642\n"
     ]
    }
   ],
   "source": [
    "from tensorflow.keras.callbacks import EarlyStopping\n",
    "from tensorflow.keras import models, layers\n",
    "\n",
    "# Define the CNN model\n",
    "def create_cnn_model(shape, num_classes):\n",
    "    model = models.Sequential([\n",
    "        layers.InputLayer(input_shape=shape),\n",
    "        layers.Conv2D(16, (3, 3), activation='relu', padding='same'),\n",
    "        layers.MaxPooling2D(pool_size=(2, 2)),\n",
    "        layers.Conv2D(32, (3, 3), activation='relu', padding='same'),\n",
    "        layers.MaxPooling2D(pool_size=(2, 2)),\n",
    "        layers.Conv2D(64, (3, 3), activation='relu', padding='same'),\n",
    "        layers.MaxPooling2D(pool_size=(2, 2)),\n",
    "        layers.BatchNormalization(),  # Add Batch Normalization\n",
    "        layers.Conv2D(128, (3, 3), activation='relu', padding='same'),\n",
    "        layers.MaxPooling2D(pool_size=(2, 2)),\n",
    "        layers.Dropout(0.3),          # Add Dropout with 30% rate\n",
    "        layers.Flatten(),\n",
    "        layers.Dense(128, activation='relu'),\n",
    "        layers.Dense(num_classes, activation='sigmoid')  # Sigmoid for multi-label classification\n",
    "    ])\n",
    "    model.compile(optimizer='adam', loss='binary_crossentropy', metrics=['accuracy', 'recall', 'precision'])\n",
    "    \n",
    "    return model\n",
    "\n",
    "# Define input shape based on Mel-spectrogram dimensions\n",
    "input_shape = X_train.shape[1:]  # (height, width, channels), usually (time_steps, freq_bins, 1)\n",
    "num_classes = y_train.shape[1]  # Number of instruments (output dimensions)\n",
    "\n",
    "# Create the CNN model\n",
    "model = create_cnn_model(input_shape, num_classes)\n",
    "\n",
    "# Early stopping callback\n",
    "early_stopping = EarlyStopping(\n",
    "    monitor='val_loss',  # Monitor validation loss\n",
    "    patience=10,          # Number of epochs to wait for improvement before stopping\n",
    "    restore_best_weights=True  # Restore model weights from the epoch with the best validation loss\n",
    ")\n",
    "\n",
    "# Train the model with early stopping\n",
    "history = model.fit(\n",
    "    X_train, y_train,\n",
    "    epochs=80,  # Maximum number of epochs\n",
    "    batch_size=32,\n",
    "    validation_data=(X_test, y_test),\n",
    "    callbacks=[early_stopping]  # Pass the early stopping callback\n",
    ")\n",
    "\n",
    "# Evaluate the model\n",
    "results = model.evaluate(X_test, y_test)\n",
    "print(f\"Test Loss: {results[0]:.4f}\")  # Loss\n",
    "print(f\"Test Accuracy: {results[1]:.4f}\")  # Accuracy\n",
    "print(f\"Test Precision: {results[2]:.4f}\")  # Precision\n",
    "print(f\"Test Recall: {results[3]:.4f}\")  # Recall"
   ]
  },
  {
   "cell_type": "code",
   "execution_count": 11,
   "id": "d3bfa4c6",
   "metadata": {},
   "outputs": [
    {
     "data": {
      "image/png": "[encoded data removed]",
      "text/plain": [
       "<Figure size 640x480 with 1 Axes>"
      ]
     },
     "metadata": {},
     "output_type": "display_data"
    }
   ],
   "source": [
    "plt.plot(history.history['loss'], label = 'Training')\n",
    "plt.plot(history.history['val_loss'], label = 'Validation')\n",
    "plt.legend()\n",
    "plt.show()"
   ]
  },
  {
   "cell_type": "markdown",
   "id": "538311d7",
   "metadata": {},
   "source": [
    "## Prediction / Confusion matrix"
   ]
  },
  {
   "cell_type": "code",
   "execution_count": 14,
   "id": "baf50e23",
   "metadata": {},
   "outputs": [
    {
     "name": "stdout",
     "output_type": "stream",
     "text": [
      "\u001b[1m1/1\u001b[0m \u001b[32m━━━━━━━━━━━━━━━━━━━━\u001b[0m\u001b[37m\u001b[0m \u001b[1m0s\u001b[0m 59ms/step\n",
      "Predicted instruments for '/Users/andregusmao/Documents/Le Wagon/Project/test_data/1819.wav': (61, 71, 72)\n"
     ]
    }
   ],
   "source": [
    "# Function to predict instruments from a new .wav file\n",
    "def predict_instruments(file_path, model, mlb):\n",
    "    # Extract Mel-spectrogram from the input file\n",
    "    mel_spec = extract_mel_spectrogram(file_path)\n",
    "    \n",
    "    # Pad or reshape the spectrogram to match the model input shape\n",
    "    mel_spec = np.expand_dims(mel_spec, axis=-1)  # Add channel dimension\n",
    "    mel_spec = tf.keras.preprocessing.sequence.pad_sequences([mel_spec], padding='post', dtype='float32', value=0)\n",
    "    \n",
    "    # Predict the instruments\n",
    "    prediction = model.predict(mel_spec)\n",
    "    \n",
    "    # Convert the binary predictions back to instrument labels\n",
    "    predicted_instruments = mlb.inverse_transform((prediction > 0.5).astype(int))  # Threshold at 0.5 for multi-label\n",
    "    return predicted_instruments[0]\n",
    "\n",
    "# Example: Predict instruments in a new audio file\n",
    "new_file_path = '/Users/andregusmao/Documents/Le Wagon/Project/test_data/1819.wav'\n",
    "predicted_instruments = predict_instruments(new_file_path, model, mlb)\n",
    "\n",
    "print(f\"Predicted instruments for '{new_file_path}': {predicted_instruments}\")\n"
   ]
  },
  {
   "cell_type": "code",
   "execution_count": 15,
   "id": "025e739b",
   "metadata": {},
   "outputs": [
    {
     "name": "stdout",
     "output_type": "stream",
     "text": [
      "\u001b[1m1/1\u001b[0m \u001b[32m━━━━━━━━━━━━━━━━━━━━\u001b[0m\u001b[37m\u001b[0m \u001b[1m0s\u001b[0m 27ms/step\n",
      "\u001b[1m1/1\u001b[0m \u001b[32m━━━━━━━━━━━━━━━━━━━━\u001b[0m\u001b[37m\u001b[0m \u001b[1m0s\u001b[0m 23ms/step\n",
      "\u001b[1m1/1\u001b[0m \u001b[32m━━━━━━━━━━━━━━━━━━━━\u001b[0m\u001b[37m\u001b[0m \u001b[1m0s\u001b[0m 24ms/step\n",
      "\u001b[1m1/1\u001b[0m \u001b[32m━━━━━━━━━━━━━━━━━━━━\u001b[0m\u001b[37m\u001b[0m \u001b[1m0s\u001b[0m 29ms/step\n",
      "\u001b[1m1/1\u001b[0m \u001b[32m━━━━━━━━━━━━━━━━━━━━\u001b[0m\u001b[37m\u001b[0m \u001b[1m0s\u001b[0m 17ms/step\n",
      "\u001b[1m1/1\u001b[0m \u001b[32m━━━━━━━━━━━━━━━━━━━━\u001b[0m\u001b[37m\u001b[0m \u001b[1m0s\u001b[0m 20ms/step\n",
      "\u001b[1m1/1\u001b[0m \u001b[32m━━━━━━━━━━━━━━━━━━━━\u001b[0m\u001b[37m\u001b[0m \u001b[1m0s\u001b[0m 17ms/step\n",
      "\u001b[1m1/1\u001b[0m \u001b[32m━━━━━━━━━━━━━━━━━━━━\u001b[0m\u001b[37m\u001b[0m \u001b[1m0s\u001b[0m 17ms/step\n",
      "\u001b[1m1/1\u001b[0m \u001b[32m━━━━━━━━━━━━━━━━━━━━\u001b[0m\u001b[37m\u001b[0m \u001b[1m0s\u001b[0m 19ms/step\n",
      "\u001b[1m1/1\u001b[0m \u001b[32m━━━━━━━━━━━━━━━━━━━━\u001b[0m\u001b[37m\u001b[0m \u001b[1m0s\u001b[0m 32ms/step\n",
      "Confusion Matrix for class 1:\n",
      "[[5 1]\n",
      " [0 4]]\n",
      "Confusion Matrix for class 41:\n",
      "[[5 1]\n",
      " [0 4]]\n",
      "Confusion Matrix for class 42:\n",
      "[[6 2]\n",
      " [0 2]]\n",
      "Confusion Matrix for class 43:\n",
      "[[5 2]\n",
      " [0 3]]\n",
      "Confusion Matrix for class 61:\n",
      "[[8 0]\n",
      " [0 2]]\n",
      "Confusion Matrix for class 71:\n",
      "[[8 0]\n",
      " [0 2]]\n",
      "Confusion Matrix for class 72:\n",
      "[[8 0]\n",
      " [0 2]]\n",
      "\n",
      "Classification Report:\n",
      "\n",
      "              precision    recall  f1-score   support\n",
      "\n",
      "           1       0.80      1.00      0.89         4\n",
      "          41       0.80      1.00      0.89         4\n",
      "          42       0.50      1.00      0.67         2\n",
      "          43       0.60      1.00      0.75         3\n",
      "          61       1.00      1.00      1.00         2\n",
      "          71       1.00      1.00      1.00         2\n",
      "          72       1.00      1.00      1.00         2\n",
      "\n",
      "   micro avg       0.76      1.00      0.86        19\n",
      "   macro avg       0.81      1.00      0.88        19\n",
      "weighted avg       0.80      1.00      0.88        19\n",
      " samples avg       0.81      1.00      0.86        19\n",
      "\n"
     ]
    }
   ],
   "source": [
    "# Directory containing test .wav files\n",
    "wav_dir = 'test_data'\n",
    "\n",
    "# Ground truth labels corresponding to each file\n",
    "# This is a dictionary where the key is the file name, and the value is the true label\n",
    "# For multi-label classification, use a binary array for each label\n",
    "ground_truth = {\n",
    "    '1759.wav': [1],\n",
    "    '1819.wav': [61, 71, 72],\n",
    "    '2106.wav': [41, 42, 43],\n",
    "    '2191.wav': [41],\n",
    "    '2298.wav': [43],\n",
    "    '2303.wav': [1],\n",
    "    '2382.wav': [41, 42, 43],\n",
    "    '2416.wav': [61, 71, 72],\n",
    "    '2556.wav': [1],\n",
    "    '2628.wav': [1, 41],\n",
    "                 \n",
    "}\n",
    "\n",
    "# Flatten all unique labels to determine the full set of classes\n",
    "all_classes = sorted({label for labels in ground_truth.values() for label in labels})\n",
    "\n",
    "# Initialize MultiLabelBinarizer with all possible classes\n",
    "mlb = MultiLabelBinarizer(classes=all_classes)\n",
    "mlb.fit([all_classes])  # Fit the binarizer\n",
    "\n",
    "# Initialize lists for true and predicted labels\n",
    "y_true = []\n",
    "y_pred = []\n",
    "\n",
    "# Iterate through the files in the directory\n",
    "for file_name in os.listdir(wav_dir):\n",
    "    if file_name.endswith('.wav') and file_name in ground_truth:\n",
    "        file_path = os.path.join(wav_dir, file_name)\n",
    "        \n",
    "        # Predict instruments for the current file\n",
    "        predicted_instruments = predict_instruments(file_path, model, mlb)\n",
    "        \n",
    "        # Append true and predicted labels (as binary arrays)\n",
    "        y_true.append(mlb.transform([ground_truth[file_name]])[0])  # Convert true labels to binary array\n",
    "        y_pred.append(mlb.transform([predicted_instruments])[0])    # Convert predicted labels to binary array\n",
    "\n",
    "# Convert lists to numpy arrays\n",
    "y_true = np.array(y_true)\n",
    "y_pred = np.array(y_pred)\n",
    "\n",
    "# Generate multilabel confusion matrix\n",
    "mcm = multilabel_confusion_matrix(y_true, y_pred)\n",
    "\n",
    "# Print individual confusion matrices for each class\n",
    "for i, (label, cm) in enumerate(zip(mlb.classes_, mcm)):\n",
    "    print(f\"Confusion Matrix for class {label}:\\n{cm}\")\n",
    "\n",
    "# Generate classification report for overall evaluation\n",
    "report = classification_report(y_true, y_pred, target_names=[str(label) for label in mlb.classes_])\n",
    "print(\"\\nClassification Report:\\n\")\n",
    "print(report)\n",
    "\n",
    "# # Plot confusion matrix for each class\n",
    "# for i, (label, cm) in enumerate(zip(mlb.classes_, mcm)):\n",
    "#     plt.figure(figsize=(6, 4))\n",
    "#     sns.heatmap(cm, annot=True, fmt=\"d\", cmap=\"Blues\", xticklabels=[\"Not \"+str(label), str(label)], yticklabels=[\"Not \"+str(label), str(label)])\n",
    "#     plt.title(f\"Confusion Matrix for Class {label}\")\n",
    "#     plt.xlabel(\"Predicted\")\n",
    "#     plt.ylabel(\"Actual\")\n",
    "#     plt.show()"
   ]
  },
  {
   "cell_type": "markdown",
   "id": "23a75450",
   "metadata": {},
   "source": [
    "## Save the model"
   ]
  },
  {
   "cell_type": "code",
   "execution_count": 22,
   "id": "ec01bbd0",
   "metadata": {},
   "outputs": [
    {
     "name": "stdout",
     "output_type": "stream",
     "text": [
      "ls: CNN_model1: No such file or directory\r\n"
     ]
    }
   ],
   "source": [
    "ls CNN_model1"
   ]
  },
  {
   "cell_type": "code",
   "execution_count": 24,
   "id": "77904fb9",
   "metadata": {},
   "outputs": [],
   "source": [
    "# Save the model in TensorFlow's SavedModel format\n",
    "model.save('Models/CNN_model1.keras')"
   ]
  },
  {
   "cell_type": "markdown",
   "id": "1a9dabe9",
   "metadata": {},
   "source": [
    "## Load saved the model"
   ]
  },
  {
   "cell_type": "code",
   "execution_count": 26,
   "id": "eb2bce7c",
   "metadata": {},
   "outputs": [],
   "source": [
    "from tensorflow.keras.models import load_model\n",
    "\n",
    "# Load the .keras file\n",
    "saved_model = load_model('Models/CNN_model1.keras')"
   ]
  },
  {
   "cell_type": "code",
   "execution_count": 28,
   "id": "08c2e829",
   "metadata": {},
   "outputs": [
    {
     "name": "stdout",
     "output_type": "stream",
     "text": [
      "\u001b[1m1/1\u001b[0m \u001b[32m━━━━━━━━━━━━━━━━━━━━\u001b[0m\u001b[37m\u001b[0m \u001b[1m0s\u001b[0m 25ms/step\n",
      "Predicted instruments for '/Users/andregusmao/Documents/Le Wagon/Project/test_data/1819.wav': (61, 71, 72)\n"
     ]
    }
   ],
   "source": [
    "# Example: Predict instruments in a new audio file\n",
    "new_file_path = '/Users/andregusmao/Documents/Le Wagon/Project/test_data/1819.wav'\n",
    "predicted_instruments = predict_instruments(new_file_path, saved_model, mlb)\n",
    "print(f\"Predicted instruments for '{new_file_path}': {predicted_instruments}\")"
   ]
  },
  {
   "cell_type": "code",
   "execution_count": null,
   "id": "93249c7f",
   "metadata": {},
   "outputs": [],
   "source": []
  }
 ],
 "metadata": {
  "kernelspec": {
   "display_name": "Python 3 (ipykernel)",
   "language": "python",
   "name": "python3"
  },
  "language_info": {
   "codemirror_mode": {
    "name": "ipython",
    "version": 3
   },
   "file_extension": ".py",
   "mimetype": "text/x-python",
   "name": "python",
   "nbconvert_exporter": "python",
   "pygments_lexer": "ipython3",
   "version": "3.10.6"
  },
  "toc": {
   "base_numbering": 1,
   "nav_menu": {},
   "number_sections": true,
   "sideBar": true,
   "skip_h1_title": false,
   "title_cell": "Table of Contents",
   "title_sidebar": "Contents",
   "toc_cell": false,
   "toc_position": {},
   "toc_section_display": true,
   "toc_window_display": false
  }
 },
 "nbformat": 4,
 "nbformat_minor": 5
}
