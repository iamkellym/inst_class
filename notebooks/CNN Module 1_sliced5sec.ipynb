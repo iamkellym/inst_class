{
 "cells": [
  {
   "cell_type": "markdown",
   "id": "064fba3b",
   "metadata": {},
   "source": [
    "# CNN Module_1_sliced_5sec"
   ]
  },
  {
   "cell_type": "markdown",
   "id": "d8684a06",
   "metadata": {},
   "source": [
    "## Imports"
   ]
  },
  {
   "cell_type": "code",
   "execution_count": 1,
   "id": "9c2bc40a",
   "metadata": {},
   "outputs": [],
   "source": [
    "import librosa\n",
    "import numpy as np\n",
    "import os\n",
    "import pandas as pd\n",
    "import seaborn as sns\n",
    "import matplotlib.pyplot as plt\n",
    "from sklearn.preprocessing import MultiLabelBinarizer\n",
    "from sklearn.model_selection import train_test_split\n",
    "import tensorflow as tf\n",
    "from tensorflow.keras import layers, models\n",
    "from sklearn.metrics import accuracy_score, precision_score, recall_score\n",
    "from sklearn.metrics import multilabel_confusion_matrix, classification_report"
   ]
  },
  {
   "cell_type": "markdown",
   "id": "5c600bd6",
   "metadata": {},
   "source": [
    "## Extract the spectrogram of .wav files"
   ]
  },
  {
   "cell_type": "code",
   "execution_count": null,
   "id": "e30924b3",
   "metadata": {},
   "outputs": [],
   "source": [
    "def extract_mel_spectrogram(file_path):\n",
    "    y, sr = librosa.load(file_path, sr=None, duration=5.0)  # Limit to 5 seconds to keep data consistent\n",
    "    mel_spec = librosa.feature.melspectrogram(y=y, sr=sr, n_mels=128, fmax=8000)\n",
    "    mel_spec_db = librosa.power_to_db(mel_spec, ref=np.max)  # Convert to decibels for better visualization\n",
    "    return mel_spec_db"
   ]
  },
  {
   "cell_type": "markdown",
   "id": "faa9fa21",
   "metadata": {},
   "source": [
    "## Extract features / create training data"
   ]
  },
  {
   "cell_type": "code",
   "execution_count": null,
   "id": "fe2c13c0",
   "metadata": {},
   "outputs": [
    {
     "name": "stderr",
     "output_type": "stream",
     "text": [
      "/Users/andregusmao/.pyenv/versions/3.10.6/envs/lewagon/lib/python3.10/site-packages/sklearn/preprocessing/_label.py:900: UserWarning: unknown class(es) [69, 74] will be ignored\n",
      "  warnings.warn(\n",
      "/Users/andregusmao/.pyenv/versions/3.10.6/envs/lewagon/lib/python3.10/site-packages/sklearn/preprocessing/_label.py:900: UserWarning: unknown class(es) [74] will be ignored\n",
      "  warnings.warn(\n",
      "/Users/andregusmao/.pyenv/versions/3.10.6/envs/lewagon/lib/python3.10/site-packages/sklearn/preprocessing/_label.py:900: UserWarning: unknown class(es) [69] will be ignored\n",
      "  warnings.warn(\n",
      "/Users/andregusmao/.pyenv/versions/3.10.6/envs/lewagon/lib/python3.10/site-packages/sklearn/preprocessing/_label.py:900: UserWarning: unknown class(es) [7] will be ignored\n",
      "  warnings.warn(\n",
      "/Users/andregusmao/.pyenv/versions/3.10.6/envs/lewagon/lib/python3.10/site-packages/sklearn/preprocessing/_label.py:900: UserWarning: unknown class(es) [44] will be ignored\n",
      "  warnings.warn(\n",
      "/Users/andregusmao/.pyenv/versions/3.10.6/envs/lewagon/lib/python3.10/site-packages/sklearn/preprocessing/_label.py:900: UserWarning: unknown class(es) [44, 74] will be ignored\n",
      "  warnings.warn(\n"
     ]
    }
   ],
   "source": [
    "data = pd.read_csv('preprocessed_data/preprocessed_data_sliced.csv') #change the path, if needed\n",
    "\n",
    "\n",
    "unique_instruments = [1, 41, 42, 43, 61, 71, 72]\n",
    "\n",
    "if isinstance(data['target'].iloc[0], str):\n",
    "    data['target'] = data['target'].apply(eval)\n",
    "\n",
    "mlb = MultiLabelBinarizer(classes=unique_instruments)\n",
    "\n",
    "# # Apply MultiLabelBinarizer to the 'target' column to get the binary representation\n",
    "\n",
    "X = []  # Features (Mel-spectrograms)\n",
    "y = []  # Targets (binary labels)\n",
    "\n",
    "for _, entry in data.iterrows():\n",
    "    mel_spec = extract_mel_spectrogram(entry[\"filename\"])\n",
    "    X.append(mel_spec)\n",
    "\n",
    "    # Use MultiLabelBinarizer to encode the target (list of instruments)\n",
    "    encoded_target = mlb.fit_transform([entry[\"target\"]])  # entry['target'] contains a list of instruments\n",
    "    y.append(encoded_target[0])\n",
    "\n",
    "\n",
    "# Pad the Mel-spectrograms to make them have the same shape (for CNN input)\n",
    "X = tf.keras.preprocessing.sequence.pad_sequences(X, padding='post', dtype='float32', value=0)\n",
    "\n",
    "# Add the channel dimension to X (since it is a grayscale image, the channel will be 1)\n",
    "X = np.expand_dims(X, axis=-1)  # Shape will be (batch_size, height, width, 1)\n",
    "\n",
    "X = np.array(X)\n",
    "y = np.array(y)\n",
    "\n",
    "X_train, X_test, y_train, y_test = train_test_split(X, y, test_size=0.2, random_state=42)"
   ]
  },
  {
   "cell_type": "markdown",
   "id": "f2aa6b3e",
   "metadata": {},
   "source": [
    "## Create / evaluate CNN model"
   ]
  },
  {
   "cell_type": "code",
   "execution_count": null,
   "id": "65364de6",
   "metadata": {},
   "outputs": [
    {
     "name": "stderr",
     "output_type": "stream",
     "text": [
      "/Users/andregusmao/.pyenv/versions/3.10.6/envs/lewagon/lib/python3.10/site-packages/keras/src/layers/core/input_layer.py:26: UserWarning: Argument `input_shape` is deprecated. Use `shape` instead.\n",
      "  warnings.warn(\n"
     ]
    },
    {
     "name": "stdout",
     "output_type": "stream",
     "text": [
      "Epoch 1/400\n",
      "\u001b[1m606/606\u001b[0m \u001b[32m━━━━━━━━━━━━━━━━━━━━\u001b[0m\u001b[37m\u001b[0m \u001b[1m96s\u001b[0m 157ms/step - accuracy: 0.7230 - loss: 0.3300 - precision: 0.8071 - recall: 0.7645 - val_accuracy: 0.2763 - val_loss: 1.3736 - val_precision: 0.5256 - val_recall: 0.4525\n",
      "Epoch 2/400\n",
      "\u001b[1m606/606\u001b[0m \u001b[32m━━━━━━━━━━━━━━━━━━━━\u001b[0m\u001b[37m\u001b[0m \u001b[1m94s\u001b[0m 156ms/step - accuracy: 0.7624 - loss: 0.1113 - precision: 0.9263 - recall: 0.9179 - val_accuracy: 0.6629 - val_loss: 2.1810 - val_precision: 0.6649 - val_recall: 0.3543\n",
      "Epoch 3/400\n",
      "\u001b[1m606/606\u001b[0m \u001b[32m━━━━━━━━━━━━━━━━━━━━\u001b[0m\u001b[37m\u001b[0m \u001b[1m95s\u001b[0m 156ms/step - accuracy: 0.7716 - loss: 0.0727 - precision: 0.9496 - recall: 0.9514 - val_accuracy: 0.7264 - val_loss: 1.8678 - val_precision: 0.7552 - val_recall: 0.4079\n",
      "Epoch 4/400\n",
      "\u001b[1m606/606\u001b[0m \u001b[32m━━━━━━━━━━━━━━━━━━━━\u001b[0m\u001b[37m\u001b[0m \u001b[1m94s\u001b[0m 156ms/step - accuracy: 0.7743 - loss: 0.0536 - precision: 0.9637 - recall: 0.9640 - val_accuracy: 0.7398 - val_loss: 0.7224 - val_precision: 0.8380 - val_recall: 0.5803\n",
      "Epoch 5/400\n",
      "\u001b[1m606/606\u001b[0m \u001b[32m━━━━━━━━━━━━━━━━━━━━\u001b[0m\u001b[37m\u001b[0m \u001b[1m94s\u001b[0m 155ms/step - accuracy: 0.7388 - loss: 0.0422 - precision: 0.9700 - recall: 0.9745 - val_accuracy: 0.6646 - val_loss: 0.2898 - val_precision: 0.7937 - val_recall: 0.9210\n",
      "Epoch 6/400\n",
      "\u001b[1m606/606\u001b[0m \u001b[32m━━━━━━━━━━━━━━━━━━━━\u001b[0m\u001b[37m\u001b[0m \u001b[1m95s\u001b[0m 157ms/step - accuracy: 0.7766 - loss: 0.0358 - precision: 0.9742 - recall: 0.9782 - val_accuracy: 0.7528 - val_loss: 0.3453 - val_precision: 0.9309 - val_recall: 0.7375\n",
      "Epoch 7/400\n",
      "\u001b[1m606/606\u001b[0m \u001b[32m━━━━━━━━━━━━━━━━━━━━\u001b[0m\u001b[37m\u001b[0m \u001b[1m95s\u001b[0m 157ms/step - accuracy: 0.7666 - loss: 0.0247 - precision: 0.9811 - recall: 0.9848 - val_accuracy: 0.7780 - val_loss: 0.0958 - val_precision: 0.9548 - val_recall: 0.9346\n",
      "Epoch 8/400\n",
      "\u001b[1m606/606\u001b[0m \u001b[32m━━━━━━━━━━━━━━━━━━━━\u001b[0m\u001b[37m\u001b[0m \u001b[1m94s\u001b[0m 155ms/step - accuracy: 0.7728 - loss: 0.0217 - precision: 0.9842 - recall: 0.9880 - val_accuracy: 0.8152 - val_loss: 0.1048 - val_precision: 0.9662 - val_recall: 0.9353\n",
      "Epoch 9/400\n",
      "\u001b[1m606/606\u001b[0m \u001b[32m━━━━━━━━━━━━━━━━━━━━\u001b[0m\u001b[37m\u001b[0m \u001b[1m95s\u001b[0m 156ms/step - accuracy: 0.7544 - loss: 0.0219 - precision: 0.9842 - recall: 0.9857 - val_accuracy: 0.7119 - val_loss: 2.7768 - val_precision: 0.7567 - val_recall: 0.4347\n",
      "Epoch 10/400\n",
      "\u001b[1m606/606\u001b[0m \u001b[32m━━━━━━━━━━━━━━━━━━━━\u001b[0m\u001b[37m\u001b[0m \u001b[1m95s\u001b[0m 157ms/step - accuracy: 0.7753 - loss: 0.0151 - precision: 0.9892 - recall: 0.9907 - val_accuracy: 0.7675 - val_loss: 0.0795 - val_precision: 0.9556 - val_recall: 0.9584\n",
      "Epoch 11/400\n",
      "\u001b[1m606/606\u001b[0m \u001b[32m━━━━━━━━━━━━━━━━━━━━\u001b[0m\u001b[37m\u001b[0m \u001b[1m1272s\u001b[0m 2s/step - accuracy: 0.7788 - loss: 0.0195 - precision: 0.9857 - recall: 0.9892 - val_accuracy: 0.5609 - val_loss: 0.6587 - val_precision: 0.7651 - val_recall: 0.8249\n",
      "Epoch 12/400\n",
      "\u001b[1m606/606\u001b[0m \u001b[32m━━━━━━━━━━━━━━━━━━━━\u001b[0m\u001b[37m\u001b[0m \u001b[1m106s\u001b[0m 175ms/step - accuracy: 0.7857 - loss: 0.0152 - precision: 0.9897 - recall: 0.9909 - val_accuracy: 0.8319 - val_loss: 0.1266 - val_precision: 0.9690 - val_recall: 0.9265\n",
      "Epoch 13/400\n",
      "\u001b[1m606/606\u001b[0m \u001b[32m━━━━━━━━━━━━━━━━━━━━\u001b[0m\u001b[37m\u001b[0m \u001b[1m156s\u001b[0m 257ms/step - accuracy: 0.8104 - loss: 0.0148 - precision: 0.9893 - recall: 0.9914 - val_accuracy: 0.8542 - val_loss: 0.3641 - val_precision: 0.9417 - val_recall: 0.8414\n",
      "Epoch 14/400\n",
      "\u001b[1m606/606\u001b[0m \u001b[32m━━━━━━━━━━━━━━━━━━━━\u001b[0m\u001b[37m\u001b[0m \u001b[1m95s\u001b[0m 157ms/step - accuracy: 0.8028 - loss: 0.0145 - precision: 0.9906 - recall: 0.9897 - val_accuracy: 0.8063 - val_loss: 0.0987 - val_precision: 0.9721 - val_recall: 0.9495\n",
      "Epoch 15/400\n",
      "\u001b[1m606/606\u001b[0m \u001b[32m━━━━━━━━━━━━━━━━━━━━\u001b[0m\u001b[37m\u001b[0m \u001b[1m96s\u001b[0m 158ms/step - accuracy: 0.8155 - loss: 0.0116 - precision: 0.9922 - recall: 0.9927 - val_accuracy: 0.8110 - val_loss: 0.2161 - val_precision: 0.8798 - val_recall: 0.9588\n",
      "Epoch 16/400\n",
      "\u001b[1m606/606\u001b[0m \u001b[32m━━━━━━━━━━━━━━━━━━━━\u001b[0m\u001b[37m\u001b[0m \u001b[1m95s\u001b[0m 157ms/step - accuracy: 0.8190 - loss: 0.0128 - precision: 0.9928 - recall: 0.9931 - val_accuracy: 0.7580 - val_loss: 0.5240 - val_precision: 0.9309 - val_recall: 0.8407\n",
      "Epoch 17/400\n",
      "\u001b[1m606/606\u001b[0m \u001b[32m━━━━━━━━━━━━━━━━━━━━\u001b[0m\u001b[37m\u001b[0m \u001b[1m96s\u001b[0m 158ms/step - accuracy: 0.8289 - loss: 0.0113 - precision: 0.9929 - recall: 0.9932 - val_accuracy: 0.8232 - val_loss: 0.1196 - val_precision: 0.9688 - val_recall: 0.9193\n",
      "Epoch 18/400\n",
      "\u001b[1m606/606\u001b[0m \u001b[32m━━━━━━━━━━━━━━━━━━━━\u001b[0m\u001b[37m\u001b[0m \u001b[1m96s\u001b[0m 158ms/step - accuracy: 0.8146 - loss: 0.0090 - precision: 0.9943 - recall: 0.9944 - val_accuracy: 0.8158 - val_loss: 0.1532 - val_precision: 0.9321 - val_recall: 0.9579\n",
      "Epoch 19/400\n",
      "\u001b[1m606/606\u001b[0m \u001b[32m━━━━━━━━━━━━━━━━━━━━\u001b[0m\u001b[37m\u001b[0m \u001b[1m96s\u001b[0m 159ms/step - accuracy: 0.8396 - loss: 0.0107 - precision: 0.9929 - recall: 0.9939 - val_accuracy: 0.6718 - val_loss: 5.9086 - val_precision: 0.7031 - val_recall: 0.3877\n",
      "Epoch 20/400\n",
      "\u001b[1m606/606\u001b[0m \u001b[32m━━━━━━━━━━━━━━━━━━━━\u001b[0m\u001b[37m\u001b[0m \u001b[1m96s\u001b[0m 158ms/step - accuracy: 0.8222 - loss: 0.0107 - precision: 0.9925 - recall: 0.9944 - val_accuracy: 0.7800 - val_loss: 0.2202 - val_precision: 0.9107 - val_recall: 0.9413\n",
      "\u001b[1m152/152\u001b[0m \u001b[32m━━━━━━━━━━━━━━━━━━━━\u001b[0m\u001b[37m\u001b[0m \u001b[1m6s\u001b[0m 38ms/step - accuracy: 0.7698 - loss: 0.0795 - precision: 0.9564 - recall: 0.9565\n",
      "Test Loss: 0.0795\n",
      "Test Accuracy: 0.7675\n",
      "Test Precision: 0.9584\n",
      "Test Recall: 0.9556\n"
     ]
    }
   ],
   "source": [
    "from tensorflow.keras.callbacks import EarlyStopping\n",
    "from tensorflow.keras import models, layers\n",
    "\n",
    "def create_cnn_model(shape, num_classes):\n",
    "    model = models.Sequential([\n",
    "        layers.InputLayer(input_shape=shape),\n",
    "        layers.Conv2D(16, (3, 3), activation='relu', padding='same'),\n",
    "        layers.MaxPooling2D(pool_size=(2, 2)),\n",
    "        layers.Conv2D(32, (3, 3), activation='relu', padding='same'),\n",
    "        layers.MaxPooling2D(pool_size=(2, 2)),\n",
    "        layers.Conv2D(64, (3, 3), activation='relu', padding='same'),\n",
    "        layers.MaxPooling2D(pool_size=(2, 2)),\n",
    "        layers.BatchNormalization(),\n",
    "        layers.Conv2D(128, (3, 3), activation='relu', padding='same'),\n",
    "        layers.MaxPooling2D(pool_size=(2, 2)),\n",
    "        layers.Dropout(0.3),\n",
    "        layers.Flatten(),\n",
    "        layers.Dense(128, activation='relu'),\n",
    "        layers.Dense(num_classes, activation='sigmoid')\n",
    "    ])\n",
    "    model.compile(optimizer='adam', loss='binary_crossentropy', metrics=['accuracy', 'recall', 'precision'])\n",
    "\n",
    "    return model\n",
    "\n",
    "input_shape = X_train.shape[1:]  # (height, width, channels), usually (time_steps, freq_bins, 1)\n",
    "num_classes = y_train.shape[1]  # Number of instruments (output dimensions)\n",
    "\n",
    "\n",
    "model = create_cnn_model(input_shape, num_classes)\n",
    "\n",
    "early_stopping = EarlyStopping(\n",
    "    monitor='val_loss',\n",
    "    patience=10,\n",
    "    restore_best_weights=True\n",
    ")\n",
    "\n",
    "\n",
    "history = model.fit(\n",
    "    X_train, y_train,\n",
    "    epochs=400,\n",
    "    batch_size=32,\n",
    "    validation_data=(X_test, y_test),\n",
    "    callbacks=[early_stopping]\n",
    ")\n",
    "\n",
    "results = model.evaluate(X_test, y_test)\n",
    "print(f\"Test Loss: {results[0]:.4f}\")\n",
    "print(f\"Test Accuracy: {results[1]:.4f}\")\n",
    "print(f\"Test Precision: {results[2]:.4f}\")\n",
    "print(f\"Test Recall: {results[3]:.4f}\")"
   ]
  },
  {
   "cell_type": "code",
   "execution_count": 5,
   "id": "d3bfa4c6",
   "metadata": {},
   "outputs": [
    {
     "data": {
      "image/png": "[encoded data removed]",
      "text/plain": [
       "<Figure size 640x480 with 1 Axes>"
      ]
     },
     "metadata": {},
     "output_type": "display_data"
    }
   ],
   "source": [
    "plt.plot(history.history['loss'], label = 'Training')\n",
    "plt.plot(history.history['val_loss'], label = 'Validation')\n",
    "plt.legend()\n",
    "plt.show()"
   ]
  },
  {
   "cell_type": "markdown",
   "id": "538311d7",
   "metadata": {},
   "source": [
    "## Prediction / Confusion matrix"
   ]
  },
  {
   "cell_type": "code",
   "execution_count": null,
   "id": "baf50e23",
   "metadata": {},
   "outputs": [
    {
     "name": "stdout",
     "output_type": "stream",
     "text": [
      "\u001b[1m1/1\u001b[0m \u001b[32m━━━━━━━━━━━━━━━━━━━━\u001b[0m\u001b[37m\u001b[0m \u001b[1m0s\u001b[0m 39ms/step\n",
      "Predicted instruments for '/Users/andregusmao/Documents/Le Wagon/Project/test_data/3333.wav': (41, 42, 43)\n"
     ]
    }
   ],
   "source": [
    "def predict_instruments(file_path, model, mlb):\n",
    "\n",
    "    mel_spec = extract_mel_spectrogram(file_path)\n",
    "\n",
    "    mel_spec = np.expand_dims(mel_spec, axis=-1)\n",
    "    mel_spec = tf.keras.preprocessing.sequence.pad_sequences([mel_spec], padding='post', dtype='float32', value=0)\n",
    "\n",
    "    prediction = model.predict(mel_spec)\n",
    "\n",
    "    predicted_instruments = mlb.inverse_transform((prediction > 0.5).astype(int))  # Threshold at 0.5 for multi-label\n",
    "    return predicted_instruments[0]\n",
    "\n",
    "new_file_path = '/Users/andregusmao/Documents/Le Wagon/Project/test_data/3333.wav'\n",
    "predicted_instruments = predict_instruments(new_file_path, model, mlb)\n",
    "\n",
    "print(f\"Predicted instruments for '{new_file_path}': {predicted_instruments}\")\n"
   ]
  },
  {
   "cell_type": "code",
   "execution_count": null,
   "id": "025e739b",
   "metadata": {},
   "outputs": [
    {
     "name": "stdout",
     "output_type": "stream",
     "text": [
      "\u001b[1m1/1\u001b[0m \u001b[32m━━━━━━━━━━━━━━━━━━━━\u001b[0m\u001b[37m\u001b[0m \u001b[1m0s\u001b[0m 35ms/step\n",
      "\u001b[1m1/1\u001b[0m \u001b[32m━━━━━━━━━━━━━━━━━━━━\u001b[0m\u001b[37m\u001b[0m \u001b[1m0s\u001b[0m 28ms/step\n",
      "\u001b[1m1/1\u001b[0m \u001b[32m━━━━━━━━━━━━━━━━━━━━\u001b[0m\u001b[37m\u001b[0m \u001b[1m0s\u001b[0m 31ms/step\n",
      "\u001b[1m1/1\u001b[0m \u001b[32m━━━━━━━━━━━━━━━━━━━━\u001b[0m\u001b[37m\u001b[0m \u001b[1m0s\u001b[0m 28ms/step\n",
      "\u001b[1m1/1\u001b[0m \u001b[32m━━━━━━━━━━━━━━━━━━━━\u001b[0m\u001b[37m\u001b[0m \u001b[1m0s\u001b[0m 22ms/step\n",
      "\u001b[1m1/1\u001b[0m \u001b[32m━━━━━━━━━━━━━━━━━━━━\u001b[0m\u001b[37m\u001b[0m \u001b[1m0s\u001b[0m 26ms/step\n",
      "\u001b[1m1/1\u001b[0m \u001b[32m━━━━━━━━━━━━━━━━━━━━\u001b[0m\u001b[37m\u001b[0m \u001b[1m0s\u001b[0m 25ms/step\n",
      "\u001b[1m1/1\u001b[0m \u001b[32m━━━━━━━━━━━━━━━━━━━━\u001b[0m\u001b[37m\u001b[0m \u001b[1m0s\u001b[0m 41ms/step\n",
      "\u001b[1m1/1\u001b[0m \u001b[32m━━━━━━━━━━━━━━━━━━━━\u001b[0m\u001b[37m\u001b[0m \u001b[1m0s\u001b[0m 32ms/step\n",
      "\u001b[1m1/1\u001b[0m \u001b[32m━━━━━━━━━━━━━━━━━━━━\u001b[0m\u001b[37m\u001b[0m \u001b[1m0s\u001b[0m 33ms/step\n",
      "Confusion Matrix for class 1:\n",
      "[[6 0]\n",
      " [0 4]]\n",
      "Confusion Matrix for class 41:\n",
      "[[6 0]\n",
      " [0 4]]\n",
      "Confusion Matrix for class 42:\n",
      "[[8 0]\n",
      " [0 2]]\n",
      "Confusion Matrix for class 43:\n",
      "[[7 0]\n",
      " [0 3]]\n",
      "Confusion Matrix for class 61:\n",
      "[[8 0]\n",
      " [0 2]]\n",
      "Confusion Matrix for class 71:\n",
      "[[8 0]\n",
      " [0 2]]\n",
      "Confusion Matrix for class 72:\n",
      "[[8 0]\n",
      " [0 2]]\n",
      "\n",
      "Classification Report:\n",
      "\n",
      "              precision    recall  f1-score   support\n",
      "\n",
      "           1       1.00      1.00      1.00         4\n",
      "          41       1.00      1.00      1.00         4\n",
      "          42       1.00      1.00      1.00         2\n",
      "          43       1.00      1.00      1.00         3\n",
      "          61       1.00      1.00      1.00         2\n",
      "          71       1.00      1.00      1.00         2\n",
      "          72       1.00      1.00      1.00         2\n",
      "\n",
      "   micro avg       1.00      1.00      1.00        19\n",
      "   macro avg       1.00      1.00      1.00        19\n",
      "weighted avg       1.00      1.00      1.00        19\n",
      " samples avg       1.00      1.00      1.00        19\n",
      "\n"
     ]
    }
   ],
   "source": [
    "# Directory containing test .wav files\n",
    "wav_dir = 'test_data'\n",
    "\n",
    "# Ground truth labels corresponding to each file\n",
    "# This is a dictionary where the key is the file name, and the value is the true label\n",
    "# For multi-label classification, use a binary array for each label\n",
    "ground_truth = {\n",
    "    '1759.wav': [1],\n",
    "    '1819.wav': [61, 71, 72],\n",
    "    '2106.wav': [41, 42, 43],\n",
    "    '2191.wav': [41],\n",
    "    '2298.wav': [43],\n",
    "    '2303.wav': [1],\n",
    "    '2382.wav': [41, 42, 43],\n",
    "    '2416.wav': [61, 71, 72],\n",
    "    '2556.wav': [1],\n",
    "    '2628.wav': [1, 41],\n",
    "\n",
    "}\n",
    "\n",
    "# Flatten all unique labels to determine the full set of classes\n",
    "all_classes = sorted({label for labels in ground_truth.values() for label in labels})\n",
    "\n",
    "mlb = MultiLabelBinarizer(classes=all_classes)\n",
    "mlb.fit([all_classes])  # Fit the binarizer\n",
    "\n",
    "y_true = []\n",
    "y_pred = []\n",
    "\n",
    "for file_name in os.listdir(wav_dir):\n",
    "    if file_name.endswith('.wav') and file_name in ground_truth:\n",
    "        file_path = os.path.join(wav_dir, file_name)\n",
    "\n",
    "        predicted_instruments = predict_instruments(file_path, model, mlb)\n",
    "\n",
    "        y_true.append(mlb.transform([ground_truth[file_name]])[0])\n",
    "        y_pred.append(mlb.transform([predicted_instruments])[0])\n",
    "\n",
    "y_true = np.array(y_true)\n",
    "y_pred = np.array(y_pred)\n",
    "\n",
    "mcm = multilabel_confusion_matrix(y_true, y_pred)\n",
    "\n",
    "for i, (label, cm) in enumerate(zip(mlb.classes_, mcm)):\n",
    "    print(f\"Confusion Matrix for class {label}:\\n{cm}\")\n",
    "\n",
    "report = classification_report(y_true, y_pred, target_names=[str(label) for label in mlb.classes_])\n",
    "print(\"\\nClassification Report:\\n\")\n",
    "print(report)\n",
    "\n",
    "# # Plot confusion matrix for each class\n",
    "# for i, (label, cm) in enumerate(zip(mlb.classes_, mcm)):\n",
    "#     plt.figure(figsize=(6, 4))\n",
    "#     sns.heatmap(cm, annot=True, fmt=\"d\", cmap=\"Blues\", xticklabels=[\"Not \"+str(label), str(label)], yticklabels=[\"Not \"+str(label), str(label)])\n",
    "#     plt.title(f\"Confusion Matrix for Class {label}\")\n",
    "#     plt.xlabel(\"Predicted\")\n",
    "#     plt.ylabel(\"Actual\")\n",
    "#     plt.show()"
   ]
  },
  {
   "cell_type": "code",
   "execution_count": null,
   "id": "15e6c991",
   "metadata": {},
   "outputs": [],
   "source": []
  },
  {
   "cell_type": "markdown",
   "id": "23a75450",
   "metadata": {},
   "source": [
    "## Save the model"
   ]
  },
  {
   "cell_type": "code",
   "execution_count": 15,
   "id": "ec01bbd0",
   "metadata": {},
   "outputs": [
    {
     "name": "stdout",
     "output_type": "stream",
     "text": [
      "ls: CNN_model1_sliced2: No such file or directory\r\n"
     ]
    }
   ],
   "source": [
    "ls CNN_model1_sliced2"
   ]
  },
  {
   "cell_type": "code",
   "execution_count": 16,
   "id": "77904fb9",
   "metadata": {},
   "outputs": [],
   "source": [
    "# Save the model in TensorFlow's SavedModel format\n",
    "model.save('Models/CNN_model1_sliced2.keras')"
   ]
  },
  {
   "cell_type": "markdown",
   "id": "1a9dabe9",
   "metadata": {},
   "source": [
    "## Load saved the model"
   ]
  },
  {
   "cell_type": "code",
   "execution_count": 17,
   "id": "eb2bce7c",
   "metadata": {},
   "outputs": [],
   "source": [
    "from tensorflow.keras.models import load_model\n",
    "\n",
    "# Load the .keras file\n",
    "saved_model = load_model('Models/CNN_model1_sliced2.keras')"
   ]
  },
  {
   "cell_type": "code",
   "execution_count": 18,
   "id": "08c2e829",
   "metadata": {},
   "outputs": [
    {
     "name": "stdout",
     "output_type": "stream",
     "text": [
      "\u001b[1m1/1\u001b[0m \u001b[32m━━━━━━━━━━━━━━━━━━━━\u001b[0m\u001b[37m\u001b[0m \u001b[1m0s\u001b[0m 71ms/step\n",
      "Predicted instruments for '/Users/andregusmao/Documents/Le Wagon/Project/test_data/1819.wav': (61, 71, 72)\n"
     ]
    }
   ],
   "source": [
    "# Example: Predict instruments in a new audio file\n",
    "new_file_path = '/Users/andregusmao/Documents/Le Wagon/Project/test_data/1819.wav'\n",
    "predicted_instruments = predict_instruments(new_file_path, saved_model, mlb)\n",
    "print(f\"Predicted instruments for '{new_file_path}': {predicted_instruments}\")"
   ]
  },
  {
   "cell_type": "code",
   "execution_count": 1,
   "id": "93249c7f",
   "metadata": {},
   "outputs": [],
   "source": [
    "!pip freeze > requirements.txt"
   ]
  },
  {
   "cell_type": "code",
   "execution_count": null,
   "id": "86d2971f",
   "metadata": {},
   "outputs": [
    {
     "name": "stdout",
     "output_type": "stream",
     "text": [
      "\u001b[1m1/1\u001b[0m \u001b[32m━━━━━━━━━━━━━━━━━━━━\u001b[0m\u001b[37m\u001b[0m \u001b[1m0s\u001b[0m 47ms/step\n",
      "Predicted instruments for ./test_data/2191.wav:\n",
      "Violin: 100.00%\n",
      "Viola: 11.08%\n",
      "Cello: 2.89%\n",
      "Piano: 0.00%\n",
      "Horn: 0.00%\n",
      "Bassoon: 0.00%\n",
      "Clarinet: 0.00%\n"
     ]
    }
   ],
   "source": [
    "\n",
    "INSTRUMENT_MAP = {\n",
    "    1: 'Piano',\n",
    "    41: 'Violin',\n",
    "    42: 'Viola',\n",
    "    43: 'Cello',\n",
    "    61: 'Horn',\n",
    "    71: 'Bassoon',\n",
    "    72: 'Clarinet',\n",
    "}\n",
    "# Function to predict instruments from a new .wav file\n",
    "def predict_instruments(file_path, model, mlb):\n",
    "    # Extract Mel-spectrogram from the input file\n",
    "    mel_spec = extract_mel_spectrogram(file_path)\n",
    "    # Pad or reshape the spectrogram to match the model input shape\n",
    "    mel_spec = np.expand_dims(mel_spec, axis=-1)  # Add channel dimension\n",
    "    mel_spec = tf.keras.preprocessing.sequence.pad_sequences([mel_spec],\n",
    "                                                             padding=\"post\",\n",
    "                                                             dtype=\"float32\",\n",
    "                                                             value=0)\n",
    "    prediction = model.predict(mel_spec)[0]\n",
    "    # Get the instrument labels\n",
    "    instrument_labels = mlb.classes_\n",
    "    results = []\n",
    "    for label, prob in zip(instrument_labels, prediction):\n",
    "        if int(label) in INSTRUMENT_MAP:\n",
    "            results.append((INSTRUMENT_MAP[int(label)], prob))\n",
    "    # Sort results by probability in descending order\n",
    "    results.sort(key=lambda x: x[1], reverse=True)\n",
    "    return results\n",
    "\n",
    "new_file_path = \"./test_data/2191.wav\"\n",
    "\n",
    "predicted_instruments = predict_instruments(new_file_path, saved_model, mlb)\n",
    "print(f\"Predicted instruments for {new_file_path}:\")\n",
    "for instrument, probability in predicted_instruments:\n",
    "    print(f\"{instrument}: {probability:.2%}\")"
   ]
  },
  {
   "cell_type": "code",
   "execution_count": null,
   "id": "709716e6",
   "metadata": {},
   "outputs": [],
   "source": []
  }
 ],
 "metadata": {
  "kernelspec": {
   "display_name": "Python 3 (ipykernel)",
   "language": "python",
   "name": "python3"
  },
  "language_info": {
   "codemirror_mode": {
    "name": "ipython",
    "version": 3
   },
   "file_extension": ".py",
   "mimetype": "text/x-python",
   "name": "python",
   "nbconvert_exporter": "python",
   "pygments_lexer": "ipython3",
   "version": "3.10.6"
  },
  "toc": {
   "base_numbering": 1,
   "nav_menu": {},
   "number_sections": true,
   "sideBar": true,
   "skip_h1_title": false,
   "title_cell": "Table of Contents",
   "title_sidebar": "Contents",
   "toc_cell": false,
   "toc_position": {},
   "toc_section_display": true,
   "toc_window_display": false
  }
 },
 "nbformat": 4,
 "nbformat_minor": 5
}
